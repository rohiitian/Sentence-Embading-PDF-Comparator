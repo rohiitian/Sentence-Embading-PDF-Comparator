{
 "cells": [
  {
   "cell_type": "code",
   "execution_count": 1,
   "metadata": {},
   "outputs": [
    {
     "name": "stdout",
     "output_type": "stream",
     "text": [
      "Collecting reportlab\n",
      "  Downloading reportlab-4.0.4-py3-none-any.whl (1.9 MB)\n",
      "     ---------------------------------------- 1.9/1.9 MB 11.2 MB/s eta 0:00:00\n",
      "Requirement already satisfied: pillow>=9.0.0 in c:\\users\\rohit\\appdata\\local\\programs\\python\\python310\\lib\\site-packages (from reportlab) (9.3.0)\n",
      "Installing collected packages: reportlab\n",
      "Successfully installed reportlab-4.0.4\n",
      "Note: you may need to restart the kernel to use updated packages.\n"
     ]
    },
    {
     "name": "stderr",
     "output_type": "stream",
     "text": [
      "\n",
      "[notice] A new release of pip available: 22.2.2 -> 23.2.1\n",
      "[notice] To update, run: python.exe -m pip install --upgrade pip\n"
     ]
    }
   ],
   "source": [
    "\n",
    "pip install reportlab\n"
   ]
  },
  {
   "cell_type": "code",
   "execution_count": 2,
   "metadata": {},
   "outputs": [
    {
     "name": "stdout",
     "output_type": "stream",
     "text": [
      "Note: you may need to restart the kernel to use updated packages.\n",
      "Requirement already satisfied: PyPDF2 in c:\\users\\rohit\\appdata\\local\\programs\\python\\python310\\lib\\site-packages (3.0.1)\n",
      "Requirement already satisfied: sentence-transformers in c:\\users\\rohit\\appdata\\local\\programs\\python\\python310\\lib\\site-packages (2.2.2)\n",
      "Requirement already satisfied: scipy in c:\\users\\rohit\\appdata\\local\\programs\\python\\python310\\lib\\site-packages (from sentence-transformers) (1.9.3)\n",
      "Requirement already satisfied: nltk in c:\\users\\rohit\\appdata\\local\\programs\\python\\python310\\lib\\site-packages (from sentence-transformers) (3.8.1)\n",
      "Requirement already satisfied: torch>=1.6.0 in c:\\users\\rohit\\appdata\\local\\programs\\python\\python310\\lib\\site-packages (from sentence-transformers) (2.0.1)\n",
      "Requirement already satisfied: sentencepiece in c:\\users\\rohit\\appdata\\local\\programs\\python\\python310\\lib\\site-packages (from sentence-transformers) (0.1.99)\n",
      "Requirement already satisfied: huggingface-hub>=0.4.0 in c:\\users\\rohit\\appdata\\local\\programs\\python\\python310\\lib\\site-packages (from sentence-transformers) (0.16.4)\n",
      "Requirement already satisfied: numpy in c:\\users\\rohit\\appdata\\local\\programs\\python\\python310\\lib\\site-packages (from sentence-transformers) (1.23.5)\n",
      "Requirement already satisfied: transformers<5.0.0,>=4.6.0 in c:\\users\\rohit\\appdata\\local\\programs\\python\\python310\\lib\\site-packages (from sentence-transformers) (4.32.1)\n",
      "Requirement already satisfied: tqdm in c:\\users\\rohit\\appdata\\local\\programs\\python\\python310\\lib\\site-packages (from sentence-transformers) (4.64.1)\n",
      "Requirement already satisfied: scikit-learn in c:\\users\\rohit\\appdata\\local\\programs\\python\\python310\\lib\\site-packages (from sentence-transformers) (1.2.0)\n",
      "Requirement already satisfied: torchvision in c:\\users\\rohit\\appdata\\local\\programs\\python\\python310\\lib\\site-packages (from sentence-transformers) (0.15.2)\n",
      "Requirement already satisfied: packaging>=20.9 in c:\\users\\rohit\\appdata\\local\\programs\\python\\python310\\lib\\site-packages (from huggingface-hub>=0.4.0->sentence-transformers) (22.0)\n",
      "Requirement already satisfied: filelock in c:\\users\\rohit\\appdata\\local\\programs\\python\\python310\\lib\\site-packages (from huggingface-hub>=0.4.0->sentence-transformers) (3.12.3)\n",
      "Requirement already satisfied: requests in c:\\users\\rohit\\appdata\\local\\programs\\python\\python310\\lib\\site-packages (from huggingface-hub>=0.4.0->sentence-transformers) (2.28.1)\n",
      "Requirement already satisfied: fsspec in c:\\users\\rohit\\appdata\\local\\programs\\python\\python310\\lib\\site-packages (from huggingface-hub>=0.4.0->sentence-transformers) (2023.6.0)\n",
      "Requirement already satisfied: typing-extensions>=3.7.4.3 in c:\\users\\rohit\\appdata\\local\\programs\\python\\python310\\lib\\site-packages (from huggingface-hub>=0.4.0->sentence-transformers) (4.7.1)\n",
      "Requirement already satisfied: pyyaml>=5.1 in c:\\users\\rohit\\appdata\\local\\programs\\python\\python310\\lib\\site-packages (from huggingface-hub>=0.4.0->sentence-transformers) (6.0)\n",
      "Requirement already satisfied: sympy in c:\\users\\rohit\\appdata\\local\\programs\\python\\python310\\lib\\site-packages (from torch>=1.6.0->sentence-transformers) (1.12)\n",
      "Requirement already satisfied: networkx in c:\\users\\rohit\\appdata\\local\\programs\\python\\python310\\lib\\site-packages (from torch>=1.6.0->sentence-transformers) (3.1)\n",
      "Requirement already satisfied: jinja2 in c:\\users\\rohit\\appdata\\local\\programs\\python\\python310\\lib\\site-packages (from torch>=1.6.0->sentence-transformers) (3.1.2)\n",
      "Requirement already satisfied: colorama in c:\\users\\rohit\\appdata\\local\\programs\\python\\python310\\lib\\site-packages (from tqdm->sentence-transformers) (0.4.6)\n",
      "Requirement already satisfied: safetensors>=0.3.1 in c:\\users\\rohit\\appdata\\local\\programs\\python\\python310\\lib\\site-packages (from transformers<5.0.0,>=4.6.0->sentence-transformers) (0.3.3)\n",
      "Requirement already satisfied: regex!=2019.12.17 in c:\\users\\rohit\\appdata\\local\\programs\\python\\python310\\lib\\site-packages (from transformers<5.0.0,>=4.6.0->sentence-transformers) (2023.8.8)\n",
      "Requirement already satisfied: tokenizers!=0.11.3,<0.14,>=0.11.1 in c:\\users\\rohit\\appdata\\local\\programs\\python\\python310\\lib\\site-packages (from transformers<5.0.0,>=4.6.0->sentence-transformers) (0.13.3)\n",
      "Requirement already satisfied: click in c:\\users\\rohit\\appdata\\local\\programs\\python\\python310\\lib\\site-packages (from nltk->sentence-transformers) (8.1.7)\n",
      "Requirement already satisfied: joblib in c:\\users\\rohit\\appdata\\local\\programs\\python\\python310\\lib\\site-packages (from nltk->sentence-transformers) (1.2.0)\n",
      "Requirement already satisfied: threadpoolctl>=2.0.0 in c:\\users\\rohit\\appdata\\local\\programs\\python\\python310\\lib\\site-packages (from scikit-learn->sentence-transformers) (3.1.0)\n",
      "Requirement already satisfied: pillow!=8.3.*,>=5.3.0 in c:\\users\\rohit\\appdata\\local\\programs\\python\\python310\\lib\\site-packages (from torchvision->sentence-transformers) (9.3.0)\n",
      "Requirement already satisfied: MarkupSafe>=2.0 in c:\\users\\rohit\\appdata\\local\\programs\\python\\python310\\lib\\site-packages (from jinja2->torch>=1.6.0->sentence-transformers) (2.1.1)\n",
      "Requirement already satisfied: idna<4,>=2.5 in c:\\users\\rohit\\appdata\\local\\programs\\python\\python310\\lib\\site-packages (from requests->huggingface-hub>=0.4.0->sentence-transformers) (3.4)\n",
      "Requirement already satisfied: certifi>=2017.4.17 in c:\\users\\rohit\\appdata\\local\\programs\\python\\python310\\lib\\site-packages (from requests->huggingface-hub>=0.4.0->sentence-transformers) (2022.12.7)\n",
      "Requirement already satisfied: urllib3<1.27,>=1.21.1 in c:\\users\\rohit\\appdata\\local\\programs\\python\\python310\\lib\\site-packages (from requests->huggingface-hub>=0.4.0->sentence-transformers) (1.26.13)\n",
      "Requirement already satisfied: charset-normalizer<3,>=2 in c:\\users\\rohit\\appdata\\local\\programs\\python\\python310\\lib\\site-packages (from requests->huggingface-hub>=0.4.0->sentence-transformers) (2.1.1)\n",
      "Requirement already satisfied: mpmath>=0.19 in c:\\users\\rohit\\appdata\\local\\programs\\python\\python310\\lib\\site-packages (from sympy->torch>=1.6.0->sentence-transformers) (1.3.0)\n"
     ]
    },
    {
     "name": "stderr",
     "output_type": "stream",
     "text": [
      "\n",
      "[notice] A new release of pip available: 22.2.2 -> 23.2.1\n",
      "[notice] To update, run: python.exe -m pip install --upgrade pip\n"
     ]
    }
   ],
   "source": [
    "pip install PyPDF2 sentence-transformers\n"
   ]
  },
  {
   "cell_type": "code",
   "execution_count": 5,
   "metadata": {},
   "outputs": [
    {
     "name": "stdout",
     "output_type": "stream",
     "text": [
      "Line no:  3\n",
      "Line no:  4\n",
      "Line no:  6\n",
      "Line no:  15\n",
      "Line no:  20\n",
      "Line no:  29\n",
      "Line no:  31\n",
      "Line no:  35\n",
      "Line no:  38\n",
      "Highlighted differences saved in highlighted_differences.pdf\n"
     ]
    }
   ],
   "source": [
    "import PyPDF2\n",
    "from sentence_transformers import SentenceTransformer, util\n",
    "from reportlab.lib.pagesizes import letter\n",
    "from reportlab.pdfgen import canvas\n",
    "\n",
    "# Function to extract text from a PDF file\n",
    "def extract_text_from_pdf(pdf_path):\n",
    "    text = \"\"\n",
    "    with open(pdf_path, \"rb\") as pdf_file:\n",
    "        pdf_reader = PyPDF2.PdfReader(pdf_file)\n",
    "        for page in pdf_reader.pages:\n",
    "            text += page.extract_text()\n",
    "    return text\n",
    "\n",
    "# Paths to the two PDFs you want to compare\n",
    "pdf_path1 = \"Email1.pdf\"\n",
    "pdf_path2 = \"Email2.pdf\"\n",
    "\n",
    "# Extract text from the PDFs\n",
    "text1 = extract_text_from_pdf(pdf_path1)\n",
    "text2 = extract_text_from_pdf(pdf_path2)\n",
    "\n",
    "# Load a pre-trained sentence embeddings model\n",
    "model = SentenceTransformer('paraphrase-MiniLM-L6-v2')\n",
    "\n",
    "# Generate embeddings for sentences\n",
    "sentences1 = [sentence.strip() for sentence in text1.split(\".\") if sentence.strip()]\n",
    "sentences2 = [sentence.strip() for sentence in text2.split(\".\") if sentence.strip()]\n",
    "\n",
    "# Calculate cosine similarities between sentence embeddings\n",
    "sentence_embeddings1 = model.encode(sentences1, convert_to_tensor=True)\n",
    "sentence_embeddings2 = model.encode(sentences2, convert_to_tensor=True)\n",
    "\n",
    "cosine_similarities = util.pytorch_cos_sim(sentence_embeddings1, sentence_embeddings2)\n",
    "\n",
    "# Create a new PDF and add sentences with highlighted differences\n",
    "output_pdf_path = \"highlighted_differences.pdf\"\n",
    "\n",
    "c = canvas.Canvas(output_pdf_path, pagesize=letter)\n",
    "y = 700  # Initial y-coordinate for text\n",
    "\n",
    "for i in range(min(len(sentences1), len(sentences2))):\n",
    "    similarity = cosine_similarities[i][i].item()  # Compare parallel sentences\n",
    "    sentence = f\"Sentence {i+1}:\\n{sentences1[i]}\\n{sentences2[i]}\\nSimilarity: {similarity:.4f}\\n\"\n",
    "    \n",
    "    # Highlight sentence pairs with similarity less than 1\n",
    "    if round(similarity,4) < 1.0 :\n",
    "        c.setFillColorRGB(1, 0, 0)  # Red color for highlighting\n",
    "        c.drawString(100, y, sentence)\n",
    "        print(\"Line no: \" , i)\n",
    "    else:\n",
    "        c.drawString(100, y, sentence)\n",
    "    \n",
    "    y -= 100  # Move to the next line\n",
    "\n",
    "c.save()\n",
    "print(f\"Highlighted differences saved in {output_pdf_path}\")\n"
   ]
  },
  {
   "cell_type": "code",
   "execution_count": null,
   "metadata": {},
   "outputs": [],
   "source": []
  }
 ],
 "metadata": {
  "kernelspec": {
   "display_name": "Python 3",
   "language": "python",
   "name": "python3"
  },
  "language_info": {
   "codemirror_mode": {
    "name": "ipython",
    "version": 3
   },
   "file_extension": ".py",
   "mimetype": "text/x-python",
   "name": "python",
   "nbconvert_exporter": "python",
   "pygments_lexer": "ipython3",
   "version": "3.10.7"
  },
  "orig_nbformat": 4
 },
 "nbformat": 4,
 "nbformat_minor": 2
}

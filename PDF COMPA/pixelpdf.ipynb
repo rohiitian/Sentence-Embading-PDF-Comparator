{
 "cells": [
  {
   "cell_type": "code",
   "execution_count": 1,
   "metadata": {},
   "outputs": [
    {
     "name": "stdout",
     "output_type": "stream",
     "text": [
      "Requirement already satisfied: PyMuPDF in c:\\users\\rohit\\appdata\\local\\programs\\python\\python310\\lib\\site-packages (1.23.2)\n",
      "Requirement already satisfied: pillow in c:\\users\\rohit\\appdata\\local\\programs\\python\\python310\\lib\\site-packages (9.3.0)\n",
      "Requirement already satisfied: PyMuPDFb==1.23.0 in c:\\users\\rohit\\appdata\\local\\programs\\python\\python310\\lib\\site-packages (from PyMuPDF) (1.23.0)\n",
      "Note: you may need to restart the kernel to use updated packages.\n"
     ]
    }
   ],
   "source": [
    "pip install PyMuPDF pillow\n"
   ]
  },
  {
   "cell_type": "code",
   "execution_count": 2,
   "metadata": {},
   "outputs": [
    {
     "name": "stdout",
     "output_type": "stream",
     "text": [
      "Page 1: Images are different.\n"
     ]
    }
   ],
   "source": [
    "import fitz  # PyMuPDF\n",
    "from PIL import Image\n",
    "\n",
    "def compare_images_pixel_by_pixel(image1, image2):\n",
    "    pixels1 = list(image1.getdata())\n",
    "    pixels2 = list(image2.getdata())\n",
    "    \n",
    "    # Compare the length of pixel data\n",
    "    if len(pixels1) != len(pixels2):\n",
    "        return False\n",
    "    \n",
    "    # Compare pixel values\n",
    "    for pixel1, pixel2 in zip(pixels1, pixels2):\n",
    "        if pixel1 != pixel2:\n",
    "            return False\n",
    "    \n",
    "    return True\n",
    "\n",
    "# Paths to the PDFs you want to compare\n",
    "pdf_path1 = \"file1.pdf\"\n",
    "pdf_path2 = \"file2.pdf\"\n",
    "\n",
    "# Function to convert PDF pages to images\n",
    "def convert_pdf_to_images(pdf_path):\n",
    "    pdf_document = fitz.open(pdf_path)\n",
    "    images = []\n",
    "    \n",
    "    for page_num in range(pdf_document.page_count):\n",
    "        page = pdf_document[page_num]\n",
    "        image = page.get_pixmap()\n",
    "        img_data = Image.frombytes(\"RGB\", [image.width, image.height], image.samples)\n",
    "        images.append(img_data)\n",
    "    \n",
    "    pdf_document.close()\n",
    "    return images\n",
    "\n",
    "# Convert PDF pages to images\n",
    "images1 = convert_pdf_to_images(pdf_path1)\n",
    "images2 = convert_pdf_to_images(pdf_path2)\n",
    "\n",
    "# Iterate through corresponding pages and compare pixel by pixel\n",
    "for i, (image1, image2) in enumerate(zip(images1, images2)):\n",
    "    is_same = compare_images_pixel_by_pixel(image1, image2)\n",
    "    \n",
    "    if is_same:\n",
    "        print(f\"Page {i+1}: Images are identical.\")\n",
    "    else:\n",
    "        print(f\"Page {i+1}: Images are different.\")\n"
   ]
  },
  {
   "cell_type": "code",
   "execution_count": 3,
   "metadata": {},
   "outputs": [
    {
     "name": "stdout",
     "output_type": "stream",
     "text": [
      "Difference image for Page 1 saved as diff_page_1.png\n",
      "Difference image for Page 2 saved as diff_page_2.png\n",
      "Difference image for Page 3 saved as diff_page_3.png\n",
      "Difference image for Page 4 saved as diff_page_4.png\n",
      "Difference image for Page 5 saved as diff_page_5.png\n",
      "Difference image for Page 6 saved as diff_page_6.png\n"
     ]
    }
   ],
   "source": [
    "from PIL import Image, ImageChops\n",
    "\n",
    "def highlight_image_differences(image1, image2):\n",
    "    # Get the difference between the images\n",
    "    diff = ImageChops.difference(image1, image2)\n",
    "    \n",
    "    # Convert the difference image to grayscale\n",
    "    diff = diff.convert(\"L\")\n",
    "    \n",
    "    # Apply threshold to highlight differences\n",
    "    threshold = 50  # Adjust this value to control sensitivity\n",
    "    diff = diff.point(lambda p: p > threshold and 255)\n",
    "    \n",
    "    return diff\n",
    "\n",
    "# Paths to the PDFs you want to compare\n",
    "pdf_path1 = \"Email1.pdf\"\n",
    "pdf_path2 = \"Email2.pdf\"\n",
    "\n",
    "# Function to convert PDF pages to images\n",
    "def convert_pdf_to_images(pdf_path):\n",
    "    pdf_document = fitz.open(pdf_path)\n",
    "    images = []\n",
    "    \n",
    "    for page_num in range(pdf_document.page_count):\n",
    "        page = pdf_document[page_num]\n",
    "        image = page.get_pixmap()\n",
    "        img_data = Image.frombytes(\"RGB\", [image.width, image.height], image.samples)\n",
    "        images.append(img_data)\n",
    "    \n",
    "    pdf_document.close()\n",
    "    return images\n",
    "\n",
    "# Convert PDF pages to images\n",
    "images1 = convert_pdf_to_images(pdf_path1)\n",
    "images2 = convert_pdf_to_images(pdf_path2)\n",
    "\n",
    "# Iterate through corresponding pages and compare images\n",
    "for i, (image1, image2) in enumerate(zip(images1, images2)):\n",
    "    diff_image = highlight_image_differences(image1, image2)\n",
    "    \n",
    "    # Save the difference image\n",
    "    diff_image_path = f\"diff_page_{i+1}.png\"\n",
    "    diff_image.save(diff_image_path)\n",
    "    \n",
    "    print(f\"Difference image for Page {i+1} saved as {diff_image_path}\")\n"
   ]
  },
  {
   "cell_type": "code",
   "execution_count": null,
   "metadata": {},
   "outputs": [],
   "source": []
  }
 ],
 "metadata": {
  "kernelspec": {
   "display_name": "Python 3",
   "language": "python",
   "name": "python3"
  },
  "language_info": {
   "codemirror_mode": {
    "name": "ipython",
    "version": 3
   },
   "file_extension": ".py",
   "mimetype": "text/x-python",
   "name": "python",
   "nbconvert_exporter": "python",
   "pygments_lexer": "ipython3",
   "version": "3.10.7"
  },
  "orig_nbformat": 4
 },
 "nbformat": 4,
 "nbformat_minor": 2
}
